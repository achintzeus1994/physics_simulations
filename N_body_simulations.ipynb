{
 "cells": [
  {
   "cell_type": "code",
   "execution_count": 1,
   "id": "extreme-fourth",
   "metadata": {},
   "outputs": [],
   "source": [
    "import numpy as np\n",
    "import matplotlib.pyplot as plt"
   ]
  },
  {
   "cell_type": "markdown",
   "id": "brief-warehouse",
   "metadata": {},
   "source": [
    "This code can perform N body simulation"
   ]
  },
  {
   "cell_type": "code",
   "execution_count": 2,
   "id": "placed-memorial",
   "metadata": {},
   "outputs": [],
   "source": [
    "dt = 0.01\n",
    "t_init = 0\n",
    "t_finl = 10\n",
    "t_steps = int((t_finl-t_init)/dt)+1\n",
    "time = np.linspace(t_init,t_finl,t_steps)"
   ]
  },
  {
   "cell_type": "code",
   "execution_count": 3,
   "id": "artificial-beijing",
   "metadata": {},
   "outputs": [
    {
     "data": {
      "text/plain": [
       "10.0"
      ]
     },
     "execution_count": 3,
     "metadata": {},
     "output_type": "execute_result"
    }
   ],
   "source": [
    "time[-1]"
   ]
  },
  {
   "cell_type": "code",
   "execution_count": 4,
   "id": "imported-passport",
   "metadata": {},
   "outputs": [],
   "source": [
    "G_const = 40\n",
    "## Sun\n",
    "M_0      = 1\n",
    "q0_init  = [0,0,0]\n",
    "v0_init  = [0,0,0]\n",
    "## Earth\n",
    "M_1      = 1e-6\n",
    "x1_init       = 1\n",
    "y1_init  = 0\n",
    "z1_init  = 0\n",
    "q1_init  = [x1_init,y1_init,z1_init]\n",
    "vx1_init = 0\n",
    "vy1_init = 6.28\n",
    "vz1_init = 0\n",
    "v1_init  = [vx1_init,vy1_init,vz1_init]\n",
    "## Jupiter\n",
    "M_2     = 1e-3\n",
    "x2_init       = 5.4\n",
    "y2_init  = 0\n",
    "z2_init  = 0\n",
    "q2_init  = [x2_init,y2_init,z2_init]\n",
    "vx2_init = 0\n",
    "vy2_init = 2.75\n",
    "vz2_init = 0\n",
    "v2_init  = [vx2_init,vy2_init,vz2_init]\n",
    "## Saturn\n",
    "M_3      = 1e-3\n",
    "x3_init       = 9.73\n",
    "y3_init  = 0\n",
    "z3_init  = 0\n",
    "q3_init  = [x3_init,y3_init,z3_init]\n",
    "vx3_init = 0\n",
    "vy3_init = 2.03\n",
    "vz3_init = 0\n",
    "v3_init  = [vx3_init,vy3_init,vz3_init]\n",
    "mass     = np.array([M_0,M_1,M_2,M_3])\n",
    "q_init   = np.vstack((q0_init,q1_init,q2_init,q3_init))\n",
    "v_init   = np.vstack((v0_init,v1_init,v2_init,v3_init))"
   ]
  },
  {
   "cell_type": "code",
   "execution_count": 5,
   "id": "unusual-macintosh",
   "metadata": {},
   "outputs": [
    {
     "name": "stdout",
     "output_type": "stream",
     "text": [
      "(4,)\n"
     ]
    }
   ],
   "source": [
    "print(np.shape(mass))"
   ]
  },
  {
   "cell_type": "code",
   "execution_count": 6,
   "id": "fresh-bottle",
   "metadata": {},
   "outputs": [],
   "source": [
    "def N_body_gravity_force_calculator(q,mass,G): #q is [N,dim]\n",
    "    N = len(q[:,0])\n",
    "    force = np.zeros((3 ,N))\n",
    "    for i in range(N):\n",
    "        for j in range(N):\n",
    "            if j !=i:\n",
    "                force[:, i] = force[:, i]-G * mass[i] * mass[j] * (q[i,:] - q[j,:]) / np.linalg.norm(q[i,:] - q[j,:])**3\n",
    "    return force\n",
    "\n"
   ]
  },
  {
   "cell_type": "code",
   "execution_count": 7,
   "id": "western-wagon",
   "metadata": {},
   "outputs": [],
   "source": [
    "def N_body_gravity_leap_frog_integrator(time,q_init,v_init,mass,G_const):\n",
    "    q_T      = np.repeat(q_init[np.newaxis,:,: ],np.size(time),axis=0)   #[time, N,dim]\n",
    "    v_T      = np.repeat(v_init[np.newaxis,:,: ],np.size(time),axis=0)   #[time, N,dim]\n",
    "    f_out    = N_body_gravity_force_calculator(q_T[0],mass,G_const)\n",
    "    a_T      = (np.reciprocal(mass)*f_out).T\n",
    "    v_T[0]  = v_T[0]+dt/2*np.asarray(a_T)\n",
    "    for i in range(t_steps-1):\n",
    "        q_T[i+1] = q_T[i]+dt*v_T[i]\n",
    "        f_out = N_body_gravity_force_calculator(q_T[i+1],mass,G_const)\n",
    "        a_T      = (np.reciprocal(mass)*f_out).T\n",
    "        v_T[i+1]  = v_T[i]+dt*np.asarray(a_T)\n",
    "    return q_T,v_T,a_T"
   ]
  },
  {
   "cell_type": "code",
   "execution_count": 8,
   "id": "necessary-lawyer",
   "metadata": {
    "tags": []
   },
   "outputs": [],
   "source": [
    "q_T,v_T,a_T = N_body_gravity_leap_frog_integrator(time,q_init,v_init,mass,G_const)"
   ]
  },
  {
   "cell_type": "code",
   "execution_count": 9,
   "id": "detailed-stadium",
   "metadata": {},
   "outputs": [
    {
     "data": {
      "image/png": "[encoded data removed]",
      "text/plain": [
       "<Figure size 1152x288 with 2 Axes>"
      ]
     },
     "metadata": {
      "needs_background": "light"
     },
     "output_type": "display_data"
    }
   ],
   "source": [
    "fig, ax =plt.subplots(nrows = 1, ncols = 2, figsize=(16,4))\n",
    "\n",
    "ax[0].plot(q_T[:,0,0],q_T[:,0,1],'k')\n",
    "ax[0].plot(q_T[:,1,0],q_T[:,1,1],'b')\n",
    "ax[0].plot(q_T[:,2,0],q_T[:,2,1],'g')\n",
    "ax[0].plot(q_T[:,3,0],q_T[:,3,1],'p')\n",
    "ax[0].set_xlabel('x (AU)')\n",
    "ax[0].set_ylabel('y (AU)')\n",
    "ax[0].set_title('xy plane')\n",
    "ax[0].axhline(y=0.0, color='k', linestyle='dotted')\n",
    "ax[0].axvline(x=0.0, color='k', linestyle='dotted')\n",
    "ax[1].plot(q_T[:,0,1],q_T[:,0,2],'k')\n",
    "ax[1].plot(q_T[:,1,1],q_T[:,1,2],'b')\n",
    "ax[1].set_xlabel('y (AU)')\n",
    "ax[1].set_ylabel('z (AU)')\n",
    "ax[1].set_title('yz plane')\n",
    "ax[1].axhline(y=0.0, color='k', linestyle='dotted')\n",
    "ax[1].axvline(x=0.0, color='k', linestyle='dotted')\n",
    "plt.show()"
   ]
  },
  {
   "cell_type": "code",
   "execution_count": null,
   "id": "oriented-ethics",
   "metadata": {},
   "outputs": [],
   "source": []
  }
 ],
 "metadata": {
  "kernelspec": {
   "display_name": "achint-env2",
   "language": "python",
   "name": "achint-env2"
  },
  "language_info": {
   "codemirror_mode": {
    "name": "ipython",
    "version": 3
   },
   "file_extension": ".py",
   "mimetype": "text/x-python",
   "name": "python",
   "nbconvert_exporter": "python",
   "pygments_lexer": "ipython3",
   "version": "3.8.10"
  }
 },
 "nbformat": 4,
 "nbformat_minor": 5
}
